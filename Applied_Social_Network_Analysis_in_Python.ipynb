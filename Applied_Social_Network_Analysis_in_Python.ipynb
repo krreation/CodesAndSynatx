{
  "nbformat": 4,
  "nbformat_minor": 0,
  "metadata": {
    "colab": {
      "name": "Applied Social Network Analysis in Python.ipynb",
      "version": "0.3.2",
      "provenance": [],
      "include_colab_link": true
    },
    "kernelspec": {
      "name": "python3",
      "display_name": "Python 3"
    }
  },
  "cells": [
    {
      "cell_type": "markdown",
      "metadata": {
        "id": "view-in-github",
        "colab_type": "text"
      },
      "source": [
        "[View in Colaboratory](https://colab.research.google.com/github/krreation/CodesAndSynatx/blob/master/Applied_Social_Network_Analysis_in_Python.ipynb)"
      ]
    },
    {
      "metadata": {
        "id": "7apObzfB_sl7",
        "colab_type": "code",
        "colab": {
          "base_uri": "https://localhost:8080/",
          "height": 55
        },
        "outputId": "31e9ee27-af06-41d6-8dd8-c3a910e76eec"
      },
      "cell_type": "code",
      "source": [
        "import networkx as nx\n",
        "from networkx.algorithms import bipartite\n",
        "\n",
        "B = nx.Graph()\n",
        "B.add_edges_from([('A', 'G'),('A','I'), ('B','H'), ('C', 'G'), ('C', 'I'),('D', 'H'), ('E', 'I'), ('F', 'G'), ('F', 'J')])\n",
        "X1 = set(['A', 'B', 'C', 'D', 'E', 'F'])#\n",
        "P = bipartite.weighted_projected_graph(B,X1) \n",
        "P.edges(data=True)"
      ],
      "execution_count": 1,
      "outputs": [
        {
          "output_type": "execute_result",
          "data": {
            "text/plain": [
              "EdgeDataView([('A', 'C', {'weight': 2}), ('A', 'F', {'weight': 1}), ('A', 'E', {'weight': 1}), ('D', 'B', {'weight': 1}), ('F', 'C', {'weight': 1}), ('C', 'E', {'weight': 1})])"
            ]
          },
          "metadata": {
            "tags": []
          },
          "execution_count": 1
        }
      ]
    }
  ]
}