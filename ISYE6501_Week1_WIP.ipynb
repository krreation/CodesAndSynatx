{
  "nbformat": 4,
  "nbformat_minor": 0,
  "metadata": {
    "colab": {
      "name": "ISYE6501-Week1-WIP.ipynb",
      "provenance": [],
      "private_outputs": true,
      "collapsed_sections": [],
      "include_colab_link": true
    },
    "kernelspec": {
      "name": "ir",
      "display_name": "R"
    }
  },
  "cells": [
    {
      "cell_type": "markdown",
      "metadata": {
        "id": "view-in-github",
        "colab_type": "text"
      },
      "source": [
        "<a href=\"https://colab.research.google.com/github/krreation/CodesAndSynatx/blob/master/ISYE6501_Week1_WIP.ipynb\" target=\"_parent\"><img src=\"https://colab.research.google.com/assets/colab-badge.svg\" alt=\"Open In Colab\"/></a>"
      ]
    },
    {
      "cell_type": "code",
      "metadata": {
        "id": "NMyZXDd8sVhh",
        "colab_type": "code",
        "colab": {}
      },
      "source": [
        "getwd()"
      ],
      "execution_count": 0,
      "outputs": []
    },
    {
      "cell_type": "code",
      "metadata": {
        "id": "dHBEeMBvsj8L",
        "colab_type": "code",
        "colab": {}
      },
      "source": [
        "credit_card_data_headers <- read.csv(file = 'credit_card_data-headers.txt',\n",
        "                                header = TRUE,\n",
        "                                sep = '\\t')"
      ],
      "execution_count": 0,
      "outputs": []
    },
    {
      "cell_type": "code",
      "metadata": {
        "id": "jZx2_5Wjsy8l",
        "colab_type": "code",
        "colab": {}
      },
      "source": [
        "head(credit_card_data_headers)"
      ],
      "execution_count": 0,
      "outputs": []
    },
    {
      "cell_type": "code",
      "metadata": {
        "id": "fp9s6__8s3OR",
        "colab_type": "code",
        "colab": {}
      },
      "source": [
        "nrow(credit_card_data_headers)\n",
        "ncol(credit_card_data_headers)"
      ],
      "execution_count": 0,
      "outputs": []
    },
    {
      "cell_type": "code",
      "metadata": {
        "id": "kCA-xFkRtTue",
        "colab_type": "code",
        "colab": {}
      },
      "source": [
        "# install.packages(\"kernlab\")\n",
        "library(kernlab)"
      ],
      "execution_count": 0,
      "outputs": []
    },
    {
      "cell_type": "code",
      "metadata": {
        "id": "Pj3STdj_uIqP",
        "colab_type": "code",
        "colab": {}
      },
      "source": [
        "KSVM_Model <- ksvm(as.matrix(credit_card_data_headers[,1:10]), \n",
        "               as.factor(credit_card_data_headers[,11]), \n",
        "               type = \"C-svc\",\n",
        "               kernel=\"vanilladot\", \n",
        "               C=100, scaled=TRUE)"
      ],
      "execution_count": 0,
      "outputs": []
    },
    {
      "cell_type": "code",
      "metadata": {
        "id": "wDj8RK1FuKtL",
        "colab_type": "code",
        "colab": {}
      },
      "source": [
        "# attributes(KSVM_Model)\n",
        "KSVM_Model"
      ],
      "execution_count": 0,
      "outputs": []
    },
    {
      "cell_type": "code",
      "metadata": {
        "id": "u_lYzUhiepJR",
        "colab_type": "code",
        "colab": {}
      },
      "source": [
        "Pred <- predict(KSVM_Model, as.matrix(credit_card_data_headers[,1:10]))"
      ],
      "execution_count": 0,
      "outputs": []
    },
    {
      "cell_type": "code",
      "metadata": {
        "id": "CMUuiqd8gZeh",
        "colab_type": "code",
        "colab": {}
      },
      "source": [
        "install.packages(\"e1071\")\n",
        "library(\"e1071\")\n",
        "install.packages(\"caret\")\n",
        "library(\"caret\")"
      ],
      "execution_count": 0,
      "outputs": []
    },
    {
      "cell_type": "code",
      "metadata": {
        "id": "jttuk1m8gO-W",
        "colab_type": "code",
        "colab": {}
      },
      "source": [
        "result <- confusionMatrix(Pred, as.factor(credit_card_data_headers[, 11]))\n",
        "result"
      ],
      "execution_count": 0,
      "outputs": []
    },
    {
      "cell_type": "code",
      "metadata": {
        "id": "X30qY-UHh_wp",
        "colab_type": "code",
        "colab": {}
      },
      "source": [
        ""
      ],
      "execution_count": 0,
      "outputs": []
    }
  ]
}