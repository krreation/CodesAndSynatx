{
  "nbformat": 4,
  "nbformat_minor": 0,
  "metadata": {
    "colab": {
      "name": "Widgets_example_code.ipynb",
      "version": "0.3.2",
      "provenance": [],
      "include_colab_link": true
    },
    "kernelspec": {
      "name": "python3",
      "display_name": "Python 3"
    }
  },
  "cells": [
    {
      "cell_type": "markdown",
      "metadata": {
        "id": "view-in-github",
        "colab_type": "text"
      },
      "source": [
        "[View in Colaboratory](https://colab.research.google.com/github/krreation/DataScience1/blob/master/Widgets_example_code.ipynb)"
      ]
    },
    {
      "metadata": {
        "id": "KX2vbCgXWWYm",
        "colab_type": "code",
        "colab": {}
      },
      "cell_type": "code",
      "source": [
        "import numpy as np\n",
        "import matplotlib.pyplot as plt\n",
        "from matplotlib.widgets import Button\n",
        "%matplotlib inline\n",
        "\n",
        "freqs = np.arange(2, 20, 3)\n",
        "\n",
        "fig, ax = plt.subplots()\n",
        "plt.subplots_adjust(bottom=0.2)\n",
        "t = np.arange(0.0, 1.0, 0.001)\n",
        "s = np.sin(2*np.pi*freqs[0]*t)\n",
        "l, = plt.plot(t, s, lw=2)\n",
        "\n",
        "\n",
        "class Index(object):\n",
        "    ind = 0\n",
        "\n",
        "    def next(self, event):\n",
        "        self.ind += 1\n",
        "        i = self.ind % len(freqs)\n",
        "        ydata = np.sin(2*np.pi*freqs[i]*t)\n",
        "        l.set_ydata(ydata)\n",
        "        plt.draw()\n",
        "\n",
        "    def prev(self, event):\n",
        "        self.ind -= 1\n",
        "        i = self.ind % len(freqs)\n",
        "        ydata = np.sin(2*np.pi*freqs[i]*t)\n",
        "        l.set_ydata(ydata)\n",
        "        plt.draw()\n",
        "\n",
        "callback = Index()\n",
        "axprev = plt.axes([0.7, 0.05, 0.1, 0.075])\n",
        "axnext = plt.axes([0.81, 0.05, 0.1, 0.075])\n",
        "bnext = Button(axnext, 'Next')\n",
        "bnext.on_clicked(callback.next)\n",
        "bprev = Button(axprev, 'Previous')\n",
        "bprev.on_clicked(callback.prev)\n",
        "\n",
        "plt.show()"
      ],
      "execution_count": 0,
      "outputs": []
    }
  ]
}